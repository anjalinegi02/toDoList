{
 "cells": [
  {
   "cell_type": "code",
   "execution_count": 1,
   "id": "f2b9feee-1581-4438-a980-f3d492faf3b4",
   "metadata": {},
   "outputs": [
    {
     "name": "stdout",
     "output_type": "stream",
     "text": [
      "\n",
      "--- To-Do List Menu ---\n",
      "1. Add Task\n",
      "2. View Tasks\n",
      "3. Remove Task\n",
      "4. Exit\n"
     ]
    },
    {
     "name": "stdin",
     "output_type": "stream",
     "text": [
      "Choose an option (1-4):  1\n",
      "Enter the task:  assignment\n"
     ]
    },
    {
     "name": "stdout",
     "output_type": "stream",
     "text": [
      "Task 'assignment' added successfully!\n",
      "\n",
      "--- To-Do List Menu ---\n",
      "1. Add Task\n",
      "2. View Tasks\n",
      "3. Remove Task\n",
      "4. Exit\n"
     ]
    },
    {
     "name": "stdin",
     "output_type": "stream",
     "text": [
      "Choose an option (1-4):  1\n",
      "Enter the task:  quiz java\n"
     ]
    },
    {
     "name": "stdout",
     "output_type": "stream",
     "text": [
      "Task 'quiz java' added successfully!\n",
      "\n",
      "--- To-Do List Menu ---\n",
      "1. Add Task\n",
      "2. View Tasks\n",
      "3. Remove Task\n",
      "4. Exit\n"
     ]
    },
    {
     "name": "stdin",
     "output_type": "stream",
     "text": [
      "Choose an option (1-4):  1\n",
      "Enter the task:  problem solving assignment 2\n"
     ]
    },
    {
     "name": "stdout",
     "output_type": "stream",
     "text": [
      "Task 'problem solving assignment 2' added successfully!\n",
      "\n",
      "--- To-Do List Menu ---\n",
      "1. Add Task\n",
      "2. View Tasks\n",
      "3. Remove Task\n",
      "4. Exit\n"
     ]
    },
    {
     "name": "stdin",
     "output_type": "stream",
     "text": [
      "Choose an option (1-4):  2\n"
     ]
    },
    {
     "name": "stdout",
     "output_type": "stream",
     "text": [
      "\n",
      "--- Your To-Do List ---\n",
      "1. assignment\n",
      "2. quiz java\n",
      "3. problem solving assignment 2\n",
      "\n",
      "--- To-Do List Menu ---\n",
      "1. Add Task\n",
      "2. View Tasks\n",
      "3. Remove Task\n",
      "4. Exit\n"
     ]
    },
    {
     "name": "stdin",
     "output_type": "stream",
     "text": [
      "Choose an option (1-4):  4\n"
     ]
    },
    {
     "name": "stdout",
     "output_type": "stream",
     "text": [
      "Exiting the To-Do List application. Goodbye!\n"
     ]
    }
   ],
   "source": [
    "# Simple To-Do List Application\n",
    "\n",
    "todo_list = []\n",
    "def show_menu():\n",
    "    print(\"\\n--- To-Do List Menu ---\")\n",
    "    print(\"1. Add Task\")\n",
    "    print(\"2. View Tasks\")\n",
    "    print(\"3. Remove Task\")\n",
    "    print(\"4. Exit\")\n",
    "\n",
    "def add_task():\n",
    "    task = input(\"Enter the task: \")\n",
    "    todo_list.append(task)\n",
    "    print(f\"Task '{task}' added successfully!\")\n",
    "\n",
    "def view_tasks():\n",
    "    if not todo_list:\n",
    "        print(\"Your To-Do List is empty!\")\n",
    "    else:\n",
    "        print(\"\\n--- Your To-Do List ---\")\n",
    "        for i, task in enumerate(todo_list, start=1):\n",
    "            print(f\"{i}. {task}\")\n",
    "\n",
    "def remove_task():\n",
    "    view_tasks()\n",
    "    if todo_list:\n",
    "        try:\n",
    "            task_no = int(input(\"Enter the task number to remove: \"))\n",
    "            removed_task = todo_list.pop(task_no - 1)\n",
    "            print(f\"Task '{removed_task}' removed successfully!\")\n",
    "        except (ValueError, IndexError):\n",
    "            print(\"Invalid task number! Please try again.\")\n",
    "\n",
    "def main():\n",
    "    while True:\n",
    "        show_menu()\n",
    "        choice = input(\"Choose an option (1-4): \")\n",
    "        if choice == \"1\":\n",
    "            add_task()\n",
    "        elif choice == \"2\":\n",
    "            view_tasks()\n",
    "        elif choice == \"3\":\n",
    "            remove_task()\n",
    "        elif choice == \"4\":\n",
    "            print(\"Exiting the To-Do List application. Goodbye!\")\n",
    "            break\n",
    "        else:\n",
    "            print(\"Invalid choice! Please select a valid option.\")\n",
    "\n",
    "\n",
    "if __name__ == \"__main__\":\n",
    "    main()"
   ]
  },
  {
   "cell_type": "code",
   "execution_count": null,
   "id": "86aa9a75-7248-47ce-a44d-a72e44b04c7f",
   "metadata": {},
   "outputs": [],
   "source": []
  }
 ],
 "metadata": {
  "kernelspec": {
   "display_name": "Python 3 (ipykernel)",
   "language": "python",
   "name": "python3"
  },
  "language_info": {
   "codemirror_mode": {
    "name": "ipython",
    "version": 3
   },
   "file_extension": ".py",
   "mimetype": "text/x-python",
   "name": "python",
   "nbconvert_exporter": "python",
   "pygments_lexer": "ipython3",
   "version": "3.12.6"
  }
 },
 "nbformat": 4,
 "nbformat_minor": 5
}
